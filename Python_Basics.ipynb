{
  "nbformat": 4,
  "nbformat_minor": 0,
  "metadata": {
    "colab": {
      "provenance": []
    },
    "kernelspec": {
      "name": "python3",
      "display_name": "Python 3"
    },
    "language_info": {
      "name": "python"
    }
  },
  "cells": [
    {
      "cell_type": "markdown",
      "source": [
        "#Python Basics"
      ],
      "metadata": {
        "id": "P3CVp2Ji3FCT"
      }
    },
    {
      "cell_type": "markdown",
      "source": [
        "1.What is Python,and why is it popular?"
      ],
      "metadata": {
        "id": "rkuVFXF13tek"
      }
    },
    {
      "cell_type": "markdown",
      "source": [
        "Ans- As we know Python, the high-level, versatile programming language, has witnessed an unprecedented surge in popularity over the years.from web development to data science and artificial intelligence, Python has become the go-to language for developers, data scientists, and engineers alike, As per the google python has 137000 libraries and new libraries updates getting added to it which enhance its capabilities."
      ],
      "metadata": {
        "id": "euo1EHse34eJ"
      }
    },
    {
      "cell_type": "markdown",
      "source": [
        "2.What is an interpreter in Python?"
      ],
      "metadata": {
        "id": "meollLUL4Hf3"
      }
    },
    {
      "cell_type": "markdown",
      "source": [
        "Ans-A Python interpreter is a computer program that takes the Python code and converts it into machine code. We also have compilers that translate high-level code into machine code before execution but an interpreter is different. It translates the code you write into instructions that the computer can understand, executing them line by line."
      ],
      "metadata": {
        "id": "Vc3TjqxP4v0u"
      }
    },
    {
      "cell_type": "markdown",
      "source": [
        "3.What are pre-defined keywords in Python?"
      ],
      "metadata": {
        "id": "yKkQHyrA5Ne0"
      }
    },
    {
      "cell_type": "markdown",
      "source": [
        "Ans-Python Keywords are some predefined and reserved words in Python that have special meanings. Keywords are used to define the syntax of the coding. The keyword cannot be used as an identifier, function, or variable name. All the keywords in Python are written in lowercase except True and False"
      ],
      "metadata": {
        "id": "f83ZHO3s5fSu"
      }
    },
    {
      "cell_type": "markdown",
      "source": [
        "4.Can keywords be used as variable names.?"
      ],
      "metadata": {
        "id": "sJQpgCmC6BR-"
      }
    },
    {
      "cell_type": "markdown",
      "source": [
        "Ans-No, keywords cannot be used as variable names in most programming languages."
      ],
      "metadata": {
        "id": "rhgIIDYf7nQw"
      }
    },
    {
      "cell_type": "markdown",
      "source": [
        "5.What is mutability in Python?"
      ],
      "metadata": {
        "id": "fjyZ_9EO7xqI"
      }
    },
    {
      "cell_type": "markdown",
      "source": [
        "Ans-Mutability in Python refers to the ability to change an object's value or state after it has been created. Objects that can be changed are called mutable objects, while objects that cannot be changed are called immutable objects."
      ],
      "metadata": {
        "id": "kvY8LUaQ7_vI"
      }
    },
    {
      "cell_type": "markdown",
      "source": [
        "6.Why are lists mutable, but tuples are immutable.?"
      ],
      "metadata": {
        "id": "z25FQWU88QHj"
      }
    },
    {
      "cell_type": "markdown",
      "source": [
        "Ans-Lists are mutable because they are intended for situations where data might need to change, while tuples are immutable to provide safety, efficiency, and consistency when the data should remain constant. The choice between using a list or a tuple depends on the specific needs of your application."
      ],
      "metadata": {
        "id": "XvoR-2OFdNCj"
      }
    },
    {
      "cell_type": "markdown",
      "source": [
        "7.What is the difference between “==” and “is” operators in Python?"
      ],
      "metadata": {
        "id": "K1ROURsTehdz"
      }
    },
    {
      "cell_type": "markdown",
      "source": [
        "In Python, both == and is are comparison operators, but they are used for different purposes. Here's a breakdown of the difference between the two:\n",
        "\n",
        "\n",
        "Purpose: The == operator is used to compare the values of two objects. It checks whether the contents of the objects are the same, regardless of whether they are the same object in memory.\n",
        "\n",
        "How it works: This operator compares the values of the two objects and returns True if the values are equal, and False otherwise. For example, two different lists with the same elements will be considered equal.\n"
      ],
      "metadata": {
        "id": "JNB7v873d7Oq"
      }
    },
    {
      "cell_type": "code",
      "source": [
        "a = [1, 2, 3]\n",
        "b = [1, 2, 3]\n",
        "print(a == b)  # True, because the values inside the lists are the same"
      ],
      "metadata": {
        "colab": {
          "base_uri": "https://localhost:8080/"
        },
        "id": "1kfKa1VBd9qA",
        "outputId": "c7ac8b14-c2d2-4429-c6bf-4b2c0834fde5"
      },
      "execution_count": 1,
      "outputs": [
        {
          "output_type": "stream",
          "name": "stdout",
          "text": [
            "True\n"
          ]
        }
      ]
    },
    {
      "cell_type": "markdown",
      "source": [
        "8.What are logical operators in Python.?"
      ],
      "metadata": {
        "id": "27DnItiKhurn"
      }
    },
    {
      "cell_type": "markdown",
      "source": [
        "The three main logical operators in Python are:\n",
        "\n",
        "1 and: Returns True if both expressions are True.\n",
        "2.or: Returns True if at least one of the expressions is True.\n",
        "3.not: Reverses the boolean value of the expression (i.e., turns True to False and False to True)."
      ],
      "metadata": {
        "id": "pCVESQoeipTz"
      }
    },
    {
      "cell_type": "markdown",
      "source": [
        "9.What is type casting in Python.?"
      ],
      "metadata": {
        "id": "Apg3u423eyym"
      }
    },
    {
      "cell_type": "markdown",
      "source": [
        "Ans-Type casting in Python refers to the process of converting one data type to another. This allows you to manipulate values in the form you need or to perform operations that require specific data types. Python provides several ways to perform type casting, both explicitly (using functions) and implicitly"
      ],
      "metadata": {
        "id": "DTLKTvHnfW25"
      }
    },
    {
      "cell_type": "markdown",
      "source": [
        "10.What is the difference between implicit and explicit type casting.?"
      ],
      "metadata": {
        "id": "19HyNdqlfrdC"
      }
    },
    {
      "cell_type": "markdown",
      "source": [
        "Ans-Implicit type casting is done automatically by Python when converting compatible types (like int to float).\n",
        "Explicit type casting is done manually by the programmer using functions like int, float, or str, and is used when you need to explicitly change a variable's type."
      ],
      "metadata": {
        "id": "I7-fb0RGgUnv"
      }
    },
    {
      "cell_type": "markdown",
      "source": [
        "11..What is the purpose of conditional statements in Python.?"
      ],
      "metadata": {
        "id": "SJx1ayhjr7Id"
      }
    },
    {
      "cell_type": "markdown",
      "source": [
        "Ans-Conditional statements allow your Python program to make decisions and adapt its behavior based on different conditions. This flexibility is a cornerstone of programming, enabling you to write more complex and interactive applications."
      ],
      "metadata": {
        "id": "5VWxSoC-sWmk"
      }
    },
    {
      "cell_type": "markdown",
      "source": [
        "12.How does the elif statement work.?"
      ],
      "metadata": {
        "id": "7uz36-7UseFZ"
      }
    },
    {
      "cell_type": "markdown",
      "source": [
        "Ans-The elif (short for \"else if\") statement in Python is used to check multiple conditions sequentially. It allows you to test several conditions in a sequence, where each condition is evaluated only if the previous ones were False. The first condition that evaluates to True will trigger its associated block of code, and the rest will be skipped"
      ],
      "metadata": {
        "id": "G-y60xY6sudD"
      }
    },
    {
      "cell_type": "markdown",
      "source": [
        "13.What is the difference between for and while loops.?"
      ],
      "metadata": {
        "id": "nNiA32JBs3NB"
      }
    },
    {
      "cell_type": "markdown",
      "source": [
        "Ans-Use a for loop when you know in advance the number of iterations or when you're iterating over a fixed sequence (like a list, tuple, or string).\n",
        "Use a while loop when the number of iterations is not known ahead of time and you need the loop to continue as long as a certain condition holds true.\n",
        "\n",
        "Choosing between a for and a while loop depends on the specific problem you're solving and whether you know how many times the loop should run or if the loop should run based on a condition."
      ],
      "metadata": {
        "id": "mJDOlwXItPch"
      }
    },
    {
      "cell_type": "markdown",
      "source": [
        "14.Describe a scenario where a while loop is more suitable than a for loop."
      ],
      "metadata": {
        "id": "ialD8n8ltXss"
      }
    },
    {
      "cell_type": "markdown",
      "source": [
        "Ans-A while loop is more suitable than a for loop in scenarios where the number of iterations is not known in advance, and the loop should continue running until a specific condition is met. This is particularly useful when the loop depends on dynamic factors, such as user input, sensor data, or changing values during execution."
      ],
      "metadata": {
        "id": "6YW722ldtg3d"
      }
    },
    {
      "cell_type": "markdown",
      "source": [
        "1 Write a Python program to print \"Hello, World!_"
      ],
      "metadata": {
        "id": "ikR0aksdt111"
      }
    },
    {
      "cell_type": "code",
      "source": [
        "print(\"Hello, World!\")"
      ],
      "metadata": {
        "colab": {
          "base_uri": "https://localhost:8080/"
        },
        "id": "VygKdOY1t4Vu",
        "outputId": "05d6cfce-6053-40dc-862e-db755a851423"
      },
      "execution_count": 1,
      "outputs": [
        {
          "output_type": "stream",
          "name": "stdout",
          "text": [
            "Hello, World!\n"
          ]
        }
      ]
    },
    {
      "cell_type": "markdown",
      "source": [
        "2.Write a Python program that displays your name and age.?"
      ],
      "metadata": {
        "id": "SbzkAw10uPaf"
      }
    },
    {
      "cell_type": "code",
      "source": [
        "# Define your name and age\n",
        "name = \"Ram\"\n",
        "age = 25\n",
        "\n",
        "# Display the name and age\n",
        "print(\"Name:\", name)\n",
        "print(\"Age:\", age)\n"
      ],
      "metadata": {
        "colab": {
          "base_uri": "https://localhost:8080/"
        },
        "id": "vpmjpqaVuR73",
        "outputId": "a0c37ed8-5f9a-4e64-e328-47b3fba43f84"
      },
      "execution_count": 2,
      "outputs": [
        {
          "output_type": "stream",
          "name": "stdout",
          "text": [
            "Name: Ram\n",
            "Age: 25\n"
          ]
        }
      ]
    },
    {
      "cell_type": "markdown",
      "source": [
        "3.Write code to print all the pre-defined keywords in Python using the keyword library.?"
      ],
      "metadata": {
        "id": "AgR4uajSvDln"
      }
    },
    {
      "cell_type": "markdown",
      "source": [
        "Explanation of Some Keywords:\n",
        "False, None, True: Special constants.\n",
        "and, or, not: Logical operators.\n",
        "def, class: Used to define functions and classes.\n",
        "if, elif, else: Conditional statements.\n",
        "for, while: Looping constructs.\n",
        "try, except, finally: Used for exception handling.\n",
        "async, await: Used for asynchronous programming."
      ],
      "metadata": {
        "id": "cDlfztadvWB5"
      }
    },
    {
      "cell_type": "markdown",
      "source": [
        "4.Write a program that checks if a given word is a Python keyword"
      ],
      "metadata": {
        "id": "rqomrH9JvhBY"
      }
    },
    {
      "cell_type": "code",
      "source": [
        "import keyword\n",
        "\n",
        "# Function to check if a word is a Python keyword\n",
        "def check_keyword(word):\n",
        "    if keyword.iskeyword(word):\n",
        "        print(f\"'{word}' is a Python keyword.\")\n",
        "    else:\n",
        "        print(f\"'{word}' is NOT a Python keyword.\")\n",
        "\n",
        "# Input from the user\n",
        "word = input(\"Enter a word to check if it is a Python keyword: \")\n",
        "\n",
        "# Check if the word is a Python keyword\n",
        "check_keyword(word)\n"
      ],
      "metadata": {
        "colab": {
          "base_uri": "https://localhost:8080/"
        },
        "id": "rIvc_Y2GvjW_",
        "outputId": "76eaeedf-0459-45e0-822a-5e5b0a4fbe46"
      },
      "execution_count": 5,
      "outputs": [
        {
          "output_type": "stream",
          "name": "stdout",
          "text": [
            "Enter a word to check if it is a Python keyword: Python Keyword\n",
            "'Python Keyword' is NOT a Python keyword.\n"
          ]
        }
      ]
    },
    {
      "cell_type": "markdown",
      "source": [
        "5.Create a list and tuple in Python, and demonstrate how attempting to change an element works differently\n",
        "for each"
      ],
      "metadata": {
        "id": "kiGydywOw1Iu"
      }
    },
    {
      "cell_type": "code",
      "source": [
        "# Creating a list and a tuple\n",
        "my_list = [1, 2, 3, 4]\n",
        "my_tuple = (1, 2, 3, 4)\n",
        "\n",
        "# Demonstrating modification of list\n",
        "print(\"Original list:\", my_list)\n",
        "my_list[2] = 10  # Change the 3rd element (index 2) of the list\n",
        "print(\"Modified list:\", my_list)\n",
        "\n",
        "# Demonstrating modification of tuple\n",
        "print(\"\\nOriginal tuple:\", my_tuple)\n",
        "try:\n",
        "    my_tuple[2] = 10  # Attempting to change the 3rd element (index 2) of the tuple\n",
        "except TypeError as e:\n",
        "    print(\"Error while modifying tuple:\", e)\n"
      ],
      "metadata": {
        "colab": {
          "base_uri": "https://localhost:8080/"
        },
        "id": "FIDm9Cm5w1zW",
        "outputId": "c4334f3f-e3d8-412a-b369-0dc0bfc5f8c8"
      },
      "execution_count": 8,
      "outputs": [
        {
          "output_type": "stream",
          "name": "stdout",
          "text": [
            "Original list: [1, 2, 3, 4]\n",
            "Modified list: [1, 2, 10, 4]\n",
            "\n",
            "Original tuple: (1, 2, 3, 4)\n",
            "Error while modifying tuple: 'tuple' object does not support item assignment\n"
          ]
        }
      ]
    },
    {
      "cell_type": "markdown",
      "source": [
        "6.Write a function to demonstrate the behavior of mutable and immutable arguments"
      ],
      "metadata": {
        "id": "kHD33NQWxA7Z"
      }
    },
    {
      "cell_type": "code",
      "source": [
        "# Function to demonstrate mutable and immutable argument behavior\n",
        "def modify_arguments(immutable_arg, mutable_arg):\n",
        "    print(\"Original immutable_arg:\", immutable_arg)\n",
        "    print(\"Original mutable_arg:\", mutable_arg)\n",
        "\n",
        "    # Modifying the immutable argument (this will not change the original object)\n",
        "    immutable_arg = immutable_arg + 10  # Creating a new integer object\n",
        "    print(\"Modified immutable_arg (inside function):\", immutable_arg)\n",
        "\n",
        "    # Modifying the mutable argument (this will modify the original object)\n",
        "    mutable_arg.append(10)  # Adding an element to the list\n",
        "    print(\"Modified mutable_arg (inside function):\", mutable_arg)\n",
        "\n",
        "\n",
        "# Demonstrate with an immutable argument (integer) and a mutable argument (list)\n",
        "immutable_value = 5\n",
        "mutable_list = [1, 2, 3]\n",
        "\n",
        "print(\"Before function call:\")\n",
        "print(\"immutable_value:\", immutable_value)\n",
        "print(\"mutable_list:\", mutable_list)\n",
        "\n",
        "# Call the function\n",
        "modify_arguments(immutable_value, mutable_list)\n",
        "\n",
        "print(\"\\nAfter function call:\")\n",
        "print(\"immutable_value:\", immutable_value)  # It should remain the same\n",
        "print(\"mutable_list:\", mutable_list)  # It should be modified\n"
      ],
      "metadata": {
        "colab": {
          "base_uri": "https://localhost:8080/"
        },
        "id": "kSfFdW0xxVF6",
        "outputId": "2f8a1e52-ae67-4682-fa21-f92c2f47103d"
      },
      "execution_count": 10,
      "outputs": [
        {
          "output_type": "stream",
          "name": "stdout",
          "text": [
            "Before function call:\n",
            "immutable_value: 5\n",
            "mutable_list: [1, 2, 3]\n",
            "Original immutable_arg: 5\n",
            "Original mutable_arg: [1, 2, 3]\n",
            "Modified immutable_arg (inside function): 15\n",
            "Modified mutable_arg (inside function): [1, 2, 3, 10]\n",
            "\n",
            "After function call:\n",
            "immutable_value: 5\n",
            "mutable_list: [1, 2, 3, 10]\n"
          ]
        }
      ]
    },
    {
      "cell_type": "markdown",
      "source": [
        "7.Write a function to demonstrate the behavior of mutable and immutable arguments"
      ],
      "metadata": {
        "id": "V1SI3ancxgqK"
      }
    },
    {
      "cell_type": "code",
      "source": [
        "def demonstrate_mutable_immutable(immutable_arg, mutable_arg):\n",
        "    print(\"Before modification:\")\n",
        "    print(f\"Immutable Argument (integer): {immutable_arg}\")\n",
        "    print(f\"Mutable Argument (list): {mutable_arg}\")\n",
        "\n",
        "    # Modifying the immutable argument (this will not change the original)\n",
        "    immutable_arg += 10\n",
        "    print(\"\\nAfter modifying immutable_arg inside the function:\")\n",
        "    print(f\"Immutable Argument (integer): {immutable_arg}\")\n",
        "\n",
        "    # Modifying the mutable argument (this will change the original)\n",
        "    mutable_arg.append(10)\n",
        "    print(\"\\nAfter modifying mutable_arg inside the function:\")\n",
        "    print(f\"Mutable Argument (list): {mutable_arg}\")\n",
        "\n",
        "# Example of calling the function\n",
        "immutable_value = 5         # Immutable (integer)\n",
        "mutable_list = [1, 2, 3]    # Mutable (list)\n",
        "\n",
        "print(\"Before function call:\")\n",
        "print(f\"immutable_value: {immutable_value}\")\n",
        "print(f\"mutable_list: {mutable_list}\\n\")\n",
        "\n",
        "# Calling the function with an immutable and a mutable argument\n",
        "demonstrate_mutable_immutable(immutable_value, mutable_list)\n",
        "\n",
        "print(\"\\nAfter function call:\")\n",
        "print(f\"immutable_value: {immutable_value}\")  # Should remain unchanged\n",
        "print(f\"mutable_list: {mutable_list}\")        # Should be modified\n"
      ],
      "metadata": {
        "colab": {
          "base_uri": "https://localhost:8080/"
        },
        "id": "x9nC3kfpxirj",
        "outputId": "440a8ac8-0312-42c8-b359-902468802050"
      },
      "execution_count": 11,
      "outputs": [
        {
          "output_type": "stream",
          "name": "stdout",
          "text": [
            "Before function call:\n",
            "immutable_value: 5\n",
            "mutable_list: [1, 2, 3]\n",
            "\n",
            "Before modification:\n",
            "Immutable Argument (integer): 5\n",
            "Mutable Argument (list): [1, 2, 3]\n",
            "\n",
            "After modifying immutable_arg inside the function:\n",
            "Immutable Argument (integer): 15\n",
            "\n",
            "After modifying mutable_arg inside the function:\n",
            "Mutable Argument (list): [1, 2, 3, 10]\n",
            "\n",
            "After function call:\n",
            "immutable_value: 5\n",
            "mutable_list: [1, 2, 3, 10]\n"
          ]
        }
      ]
    },
    {
      "cell_type": "markdown",
      "source": [
        "8.Write a program to demonstrate the use of logical operators."
      ],
      "metadata": {
        "id": "45ZfSj6Cx3a2"
      }
    },
    {
      "cell_type": "code",
      "source": [
        "# Demonstrating logical operators\n",
        "\n",
        "# Test variables\n",
        "a = 10\n",
        "b = 5\n",
        "c = 20\n",
        "\n",
        "# Using 'and' operator\n",
        "if a > b and c > a:\n",
        "    print(\"Both conditions are True for 'and': a > b and c > a\")\n",
        "\n",
        "# Using 'or' operator\n",
        "if a > b or c < a:\n",
        "    print(\"At least one condition is True for 'or': a > b or c < a\")\n",
        "\n",
        "# Using 'not' operator\n",
        "if not (a < b):\n",
        "    print(\"Condition is True for 'not': a < b is False, so 'not a < b' is True\")\n",
        "\n",
        "# Combining multiple logical operators\n",
        "if (a > b and c > a) or (b < c):\n",
        "    print(\"Multiple logical conditions combined using 'and' and 'or'\")\n",
        "\n",
        "# Using 'not' with 'or' to invert logic\n",
        "if not (a < b or c < a):\n",
        "    print(\"Condition is True for 'not' with 'or': Neither a < b nor c < a is True\")\n"
      ],
      "metadata": {
        "colab": {
          "base_uri": "https://localhost:8080/"
        },
        "id": "FNKFLnX9x6wP",
        "outputId": "d69619e7-0933-4159-e85c-e3db8db48c55"
      },
      "execution_count": 12,
      "outputs": [
        {
          "output_type": "stream",
          "name": "stdout",
          "text": [
            "Both conditions are True for 'and': a > b and c > a\n",
            "At least one condition is True for 'or': a > b or c < a\n",
            "Condition is True for 'not': a < b is False, so 'not a < b' is True\n",
            "Multiple logical conditions combined using 'and' and 'or'\n",
            "Condition is True for 'not' with 'or': Neither a < b nor c < a is True\n"
          ]
        }
      ]
    },
    {
      "cell_type": "markdown",
      "source": [
        "9.Write a Python program to convert user input from string to integer, float, and boolean types"
      ],
      "metadata": {
        "id": "T0HcL2xIyUHV"
      }
    },
    {
      "cell_type": "code",
      "source": [
        "# Get user input as a string\n",
        "user_input = input(\"Enter a value: \")\n",
        "\n",
        "# Convert to integer (int)\n",
        "try:\n",
        "    int_value = int(user_input)\n",
        "    print(f\"Converted to integer: {int_value}\")\n",
        "except ValueError:\n",
        "    print(\"Could not convert to integer.\")\n",
        "\n",
        "# Convert to float (float)\n",
        "try:\n",
        "    float_value = float(user_input)\n",
        "    print(f\"Converted to float: {float_value}\")\n",
        "except ValueError:\n",
        "    print(\"Could not convert to float.\")\n",
        "\n",
        "# Convert to boolean (bool)\n",
        "# A non-empty string is generally considered True, and an empty string is considered False\n",
        "bool_value = bool(user_input)\n",
        "print(f\"Converted to boolean: {bool_value}\")\n"
      ],
      "metadata": {
        "colab": {
          "base_uri": "https://localhost:8080/"
        },
        "id": "KFa2nxYryXe0",
        "outputId": "95694b59-19b6-45b7-b1e7-e43ceb734fb1"
      },
      "execution_count": 13,
      "outputs": [
        {
          "output_type": "stream",
          "name": "stdout",
          "text": [
            "Enter a value: user_input\n",
            "Could not convert to integer.\n",
            "Could not convert to float.\n",
            "Converted to boolean: True\n"
          ]
        }
      ]
    },
    {
      "cell_type": "markdown",
      "source": [
        "10.Write code to demonstrate type casting with list elements."
      ],
      "metadata": {
        "id": "iMJOdwvsyuC3"
      }
    },
    {
      "cell_type": "code",
      "source": [
        "# List of elements as strings\n",
        "list_of_strings = ['10', '3.14', 'True', '42', 'hello']\n",
        "\n",
        "# 1. Convert to integers (if possible)\n",
        "list_of_ints = []\n",
        "for item in list_of_strings:\n",
        "    try:\n",
        "        # Try to convert each element to an integer\n",
        "        list_of_ints.append(int(item))\n",
        "    except ValueError:\n",
        "        # If conversion fails, append None (or 0)\n",
        "        list_of_ints.append(None)\n",
        "\n",
        "# 2. Convert to floats (if possible)\n",
        "list_of_floats = []\n",
        "for item in list_of_strings:\n",
        "    try:\n",
        "        # Try to convert each element to a float\n",
        "        list_of_floats.append(float(item))\n",
        "    except ValueError:\n",
        "        # If conversion fails, append None (or 0.0)\n",
        "        list_of_floats.append(None)\n",
        "\n",
        "# 3. Convert to booleans\n",
        "list_of_bools = [bool(item) for item in list_of_strings]  # Non-empty strings are True, empty string is False\n",
        "\n",
        "# Print the results of conversions\n",
        "print(\"Original list of strings:\", list_of_strings)\n",
        "print(\"Converted to integers:\", list_of_ints)\n",
        "print(\"Converted to floats:\", list_of_floats)\n",
        "print(\"Converted to booleans:\", list_of_bools)\n"
      ],
      "metadata": {
        "colab": {
          "base_uri": "https://localhost:8080/"
        },
        "id": "egcLQbghyxex",
        "outputId": "7461c6d3-d562-4957-db91-622ebb4c86c6"
      },
      "execution_count": 15,
      "outputs": [
        {
          "output_type": "stream",
          "name": "stdout",
          "text": [
            "Original list of strings: ['10', '3.14', 'True', '42', 'hello']\n",
            "Converted to integers: [10, None, None, 42, None]\n",
            "Converted to floats: [10.0, 3.14, None, 42.0, None]\n",
            "Converted to booleans: [True, True, True, True, True]\n"
          ]
        }
      ]
    },
    {
      "cell_type": "markdown",
      "source": [
        "11.Write a program that checks if a number is positive, negative, or zero"
      ],
      "metadata": {
        "id": "uMXVyJRb2c6m"
      }
    },
    {
      "cell_type": "code",
      "source": [
        "# Get user input\n",
        "number = float(input(\"Enter a number: \"))\n",
        "\n",
        "# Check if the number is positive, negative, or zero\n",
        "if number > 0:\n",
        "    print(\"The number is positive.\")\n",
        "elif number < 0:\n",
        "    print(\"The number is negative.\")\n",
        "else:\n",
        "    print(\"The number is zero.\")\n"
      ],
      "metadata": {
        "colab": {
          "base_uri": "https://localhost:8080/"
        },
        "id": "TiDY2TMq2e5p",
        "outputId": "43284299-28d8-45a7-91f0-4cfdbe316ec2"
      },
      "execution_count": 17,
      "outputs": [
        {
          "output_type": "stream",
          "name": "stdout",
          "text": [
            "Enter a number: 23\n",
            "The number is positive.\n"
          ]
        }
      ]
    },
    {
      "cell_type": "code",
      "source": [],
      "metadata": {
        "id": "OWAXWekE2lX6"
      },
      "execution_count": null,
      "outputs": []
    },
    {
      "cell_type": "markdown",
      "source": [
        "12.Write a for loop to print numbers from 1 to 100"
      ],
      "metadata": {
        "id": "XdOJ21Cm2tss"
      }
    },
    {
      "cell_type": "code",
      "source": [
        "# Using a for loop to print numbers from 1 to 100\n",
        "for number in range(1, 101):\n",
        "    print(number)\n"
      ],
      "metadata": {
        "colab": {
          "base_uri": "https://localhost:8080/"
        },
        "id": "Lnin3vE22vn1",
        "outputId": "fc3a0262-48c3-49a5-a019-9248d7453e0e"
      },
      "execution_count": 18,
      "outputs": [
        {
          "output_type": "stream",
          "name": "stdout",
          "text": [
            "1\n",
            "2\n",
            "3\n",
            "4\n",
            "5\n",
            "6\n",
            "7\n",
            "8\n",
            "9\n",
            "10\n",
            "11\n",
            "12\n",
            "13\n",
            "14\n",
            "15\n",
            "16\n",
            "17\n",
            "18\n",
            "19\n",
            "20\n",
            "21\n",
            "22\n",
            "23\n",
            "24\n",
            "25\n",
            "26\n",
            "27\n",
            "28\n",
            "29\n",
            "30\n",
            "31\n",
            "32\n",
            "33\n",
            "34\n",
            "35\n",
            "36\n",
            "37\n",
            "38\n",
            "39\n",
            "40\n",
            "41\n",
            "42\n",
            "43\n",
            "44\n",
            "45\n",
            "46\n",
            "47\n",
            "48\n",
            "49\n",
            "50\n",
            "51\n",
            "52\n",
            "53\n",
            "54\n",
            "55\n",
            "56\n",
            "57\n",
            "58\n",
            "59\n",
            "60\n",
            "61\n",
            "62\n",
            "63\n",
            "64\n",
            "65\n",
            "66\n",
            "67\n",
            "68\n",
            "69\n",
            "70\n",
            "71\n",
            "72\n",
            "73\n",
            "74\n",
            "75\n",
            "76\n",
            "77\n",
            "78\n",
            "79\n",
            "80\n",
            "81\n",
            "82\n",
            "83\n",
            "84\n",
            "85\n",
            "86\n",
            "87\n",
            "88\n",
            "89\n",
            "90\n",
            "91\n",
            "92\n",
            "93\n",
            "94\n",
            "95\n",
            "96\n",
            "97\n",
            "98\n",
            "99\n",
            "100\n"
          ]
        }
      ]
    },
    {
      "cell_type": "markdown",
      "source": [
        "13.Write a Python program to find the sum of all even numbers between 1 and 50"
      ],
      "metadata": {
        "id": "aEFyJbTz3CX0"
      }
    },
    {
      "cell_type": "code",
      "source": [
        "# Initialize the sum to 0\n",
        "sum_of_evens = 0\n",
        "\n",
        "# Iterate through the numbers from 1 to 50\n",
        "for number in range(1, 51):\n",
        "    if number % 2 == 0:  # Check if the number is even\n",
        "        sum_of_evens += number  # Add the even number to the sum\n",
        "\n",
        "# Print the result\n",
        "print(\"Sum of all even numbers between 1 and 50:\", sum_of_evens)\n"
      ],
      "metadata": {
        "colab": {
          "base_uri": "https://localhost:8080/"
        },
        "id": "Mr7BDAEC2zVK",
        "outputId": "5ecd20a6-6261-43e6-c467-10e4dd2d6b2e"
      },
      "execution_count": 19,
      "outputs": [
        {
          "output_type": "stream",
          "name": "stdout",
          "text": [
            "Sum of all even numbers between 1 and 50: 650\n"
          ]
        }
      ]
    },
    {
      "cell_type": "code",
      "source": [],
      "metadata": {
        "id": "Foa_xwck3Hkw"
      },
      "execution_count": null,
      "outputs": []
    },
    {
      "cell_type": "markdown",
      "source": [
        "14.Write a program to reverse a string using a while loop."
      ],
      "metadata": {
        "id": "0JfULHwV3MGM"
      }
    },
    {
      "cell_type": "code",
      "source": [
        "# Input string\n",
        "input_string = input(\"Enter a string: \")\n",
        "\n",
        "# Initialize an empty string to store the reversed string\n",
        "reversed_string = \"\"\n",
        "\n",
        "# Initialize a variable to keep track of the index from the end of the string\n",
        "index = len(input_string) - 1\n",
        "\n",
        "# Use a while loop to iterate through the string in reverse\n",
        "while index >= 0:\n",
        "    reversed_string += input_string[index]  # Append the character to reversed_string\n",
        "    index -= 1  # Move to the previous character\n",
        "\n",
        "# Print the reversed string\n",
        "print(\"Reversed string:\", reversed_string)\n"
      ],
      "metadata": {
        "colab": {
          "base_uri": "https://localhost:8080/"
        },
        "id": "-ZwlaUBG3A2l",
        "outputId": "78d68a34-52a7-4898-9541-31b84e44b3ec"
      },
      "execution_count": 20,
      "outputs": [
        {
          "output_type": "stream",
          "name": "stdout",
          "text": [
            "Enter a string: 5\n",
            "Reversed string: 5\n"
          ]
        }
      ]
    },
    {
      "cell_type": "code",
      "source": [],
      "metadata": {
        "id": "xUMaAM8L3V3D"
      },
      "execution_count": null,
      "outputs": []
    },
    {
      "cell_type": "markdown",
      "source": [
        "15.Write a Python program to calculate the factorial of a number provided by the user using a while loop"
      ],
      "metadata": {
        "id": "RUBlFOnu3co6"
      }
    },
    {
      "cell_type": "code",
      "source": [
        "# Get user input for the number\n",
        "number = int(input(\"Enter a number to calculate its factorial: \"))\n",
        "\n",
        "# Initialize the factorial result as 1\n",
        "factorial = 1\n",
        "\n",
        "# Check if the number is negative (factorial is not defined for negative numbers)\n",
        "if number < 0:\n",
        "    print(\"Factorial is not defined for negative numbers.\")\n",
        "else:\n",
        "    # Use a while loop to calculate the factorial\n",
        "    current = 1\n",
        "    while current <= number:\n",
        "        factorial *= current  # Multiply factorial by the current number\n",
        "        current += 1  # Increment current to move to the next number\n",
        "\n",
        "    # Print the result\n",
        "    print(f\"The factorial of {number} is {factorial}.\")\n"
      ],
      "metadata": {
        "colab": {
          "base_uri": "https://localhost:8080/"
        },
        "id": "715SQTp73epK",
        "outputId": "10b195b9-90f8-490c-fb19-69433718aa65"
      },
      "execution_count": 21,
      "outputs": [
        {
          "output_type": "stream",
          "name": "stdout",
          "text": [
            "Enter a number to calculate its factorial: 6\n",
            "The factorial of 6 is 720.\n"
          ]
        }
      ]
    }
  ]
}